{
 "cells": [
  {
   "cell_type": "code",
   "execution_count": 6,
   "metadata": {},
   "outputs": [],
   "source": [
    "import time\n",
    "import argparse\n",
    "import pickle\n",
    "import os\n",
    "from BERT_finetuning import NeuralNetwork\n",
    "from setproctitle import setproctitle\n",
    "import torch"
   ]
  },
  {
   "cell_type": "code",
   "execution_count": 7,
   "metadata": {},
   "outputs": [],
   "source": [
    "FT_data={\n",
    "    'ubuntu': 'ubuntu_data\\\\ubuntu_data\\\\ubuntu_dataset_1M.pkl',\n",
    "    'douban': 'douban_data/douban_dataset_1M.pkl',\n",
    "    'e_commerce': 'e_commerce_data/e_commerce_dataset_1M.pkl'\n",
    "}"
   ]
  },
  {
   "cell_type": "code",
   "execution_count": null,
   "metadata": {},
   "outputs": [],
   "source": [
    "task = 'ubuntu'\n",
    "start = time.time()\n",
    "with open(FT_data[task], 'rb') as f:\n",
    "    train, dev, test = pickle.load(f, encoding='ISO-8859-1')\n",
    "print(\"Loading Data done\")\n",
    "end = time.time()\n",
    "print(\"use time: \", (end - start) / 60, \" min\")"
   ]
  }
 ],
 "metadata": {
  "kernelspec": {
   "display_name": "aleesha",
   "language": "python",
   "name": "python3"
  },
  "language_info": {
   "codemirror_mode": {
    "name": "ipython",
    "version": 3
   },
   "file_extension": ".py",
   "mimetype": "text/x-python",
   "name": "python",
   "nbconvert_exporter": "python",
   "pygments_lexer": "ipython3",
   "version": "3.9.19"
  }
 },
 "nbformat": 4,
 "nbformat_minor": 2
}
